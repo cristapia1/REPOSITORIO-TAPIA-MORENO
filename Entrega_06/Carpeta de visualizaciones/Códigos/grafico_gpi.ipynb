{
  "nbformat": 4,
  "nbformat_minor": 0,
  "metadata": {
    "colab": {
      "provenance": []
    },
    "kernelspec": {
      "name": "python3",
      "display_name": "Python 3"
    },
    "language_info": {
      "name": "python"
    }
  },
  "cells": [
    {
      "cell_type": "code",
      "execution_count": 90,
      "metadata": {
        "colab": {
          "base_uri": "https://localhost:8080/",
          "height": 17
        },
        "id": "mJFwTynSbguJ",
        "outputId": "38271d5f-160a-4adc-bfdc-a82f04cefe96"
      },
      "outputs": [
        {
          "output_type": "display_data",
          "data": {
            "text/plain": [
              "<IPython.core.display.Javascript object>"
            ],
            "application/javascript": [
              "\n",
              "    async function download(id, filename, size) {\n",
              "      if (!google.colab.kernel.accessAllowed) {\n",
              "        return;\n",
              "      }\n",
              "      const div = document.createElement('div');\n",
              "      const label = document.createElement('label');\n",
              "      label.textContent = `Downloading \"${filename}\": `;\n",
              "      div.appendChild(label);\n",
              "      const progress = document.createElement('progress');\n",
              "      progress.max = size;\n",
              "      div.appendChild(progress);\n",
              "      document.body.appendChild(div);\n",
              "\n",
              "      const buffers = [];\n",
              "      let downloaded = 0;\n",
              "\n",
              "      const channel = await google.colab.kernel.comms.open(id);\n",
              "      // Send a message to notify the kernel that we're ready.\n",
              "      channel.send({})\n",
              "\n",
              "      for await (const message of channel.messages) {\n",
              "        // Send a message to notify the kernel that we're ready.\n",
              "        channel.send({})\n",
              "        if (message.buffers) {\n",
              "          for (const buffer of message.buffers) {\n",
              "            buffers.push(buffer);\n",
              "            downloaded += buffer.byteLength;\n",
              "            progress.value = downloaded;\n",
              "          }\n",
              "        }\n",
              "      }\n",
              "      const blob = new Blob(buffers, {type: 'application/binary'});\n",
              "      const a = document.createElement('a');\n",
              "      a.href = window.URL.createObjectURL(blob);\n",
              "      a.download = filename;\n",
              "      div.appendChild(a);\n",
              "      a.click();\n",
              "      div.remove();\n",
              "    }\n",
              "  "
            ]
          },
          "metadata": {}
        },
        {
          "output_type": "display_data",
          "data": {
            "text/plain": [
              "<IPython.core.display.Javascript object>"
            ],
            "application/javascript": [
              "download(\"download_9cd24d41-70d2-42ab-b4d9-7544cfdf1af8\", \"grafico_turismo.html\", 11323)"
            ]
          },
          "metadata": {}
        }
      ],
      "source": [
        "import pandas as pd\n",
        "import altair as alt\n",
        "\n",
        
        "df = pd.read_excel('base de datos turismo por año.xlsx')\n",
        "\n",
     
        "df['Continente'] = df['Continente']\n",
        "# Asegurar formato uniforme en los nombres de continente\n",
        "df['Continente'] = df['Continente'].str.strip().str.upper()\n",
        "\n",
        "# Reemplazar Medio Oriente y Caribe (luego de normalizar)\n",
        "df['Continente'] = df['Continente'].replace({\n",
        "    'MEDIO ORIENTE': 'ASIA',\n",
        "    'CARIBE': 'AMÉRICA CENTRAL'\n",
        "}).replace({\n",
        "    'MEDIO ORIENTE': 'ASIA',\n",
        "    'CARIBE': 'AMÉRICA CENTRAL'\n",
        "})\n",
        "\n",
        "# Convertir de formato ancho a largo\n",
        "df_long = df.melt(id_vars=[\"Nacionalidad\", \"Continente\"],\n",
        "                  var_name=\"Año\",\n",
        "                  value_name=\"Turistas\")\n",
        "\n",
        "# Limpiar columna \"Año\"\n",
        "df_long[\"Año\"] = df_long[\"Año\"].str.replace(\"Total \", \"\")\n",
        "\n",
        "# Agrupar por continente y año\n",
        "df_grouped = df_long.groupby([\"Continente\", \"Año\"], as_index=False)[\"Turistas\"].sum()\n",
        "\n",
        "# Definir escala de colores por continente\n",
        "color_scale = alt.Scale(\n",
        "    domain=[\"ASIA\", \"AMERICA DEL SUR\", \"AMERICA DEL NORTE\", \"AFRICA\", \"OCEANIA\", \"EUROPA\", \"AMERICA CENTRAL\"],\n",
        "    range=[\"purple\", \"green\", \"red\", \"orange\", \"#8ECAE6\", \"blue\", \"yellow\"]\n",
        ")\n",
        "\n",
        "# Crear gráfico\n",
        "df_grouped = df_grouped[df_grouped[\"Año\"] != \"2025\"]\n",
        "chart = alt.Chart(df_grouped).mark_bar(\n",
        "    cornerRadiusTopLeft=3,\n",
        "    cornerRadiusTopRight=3\n",
        ").encode(\n",
        "    x=alt.X('Año:O', title='Año'),\n",
        "    y=alt.Y('Turistas:Q', title='Total de turistas'),\n",
        "    color=alt.Color('Continente:N', scale=color_scale, title='Continente'),tooltip=[\n",
        "        alt.Tooltip('Año:N'),\n",
        "        alt.Tooltip('Continente:N'),\n",
        "        alt.Tooltip('Turistas:Q', title='Turistas', format=',')\n",
        "    ]\n",
        ").properties(\n",
        "    width=700,\n",
        "    height=400,\n",
        "    title='Ingreso de Turistas por Continente y Año en Chile'\n",
        ")\n",
        "\n",
        "chart\n",
        "chart.save('grafico_turismo.html')  # Guarda el gráfico como HTML\n",
        "from google.colab import files\n",
        "files.download('grafico_turismo.html')  # Inicia la descarga\n"
      ]
    }
  ]
}
