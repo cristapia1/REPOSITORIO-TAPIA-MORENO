{
  "nbformat": 4,
  "nbformat_minor": 0,
  "metadata": {
    "colab": {
      "provenance": []
    },
    "kernelspec": {
      "name": "python3",
      "display_name": "Python 3"
    },
    "language_info": {
      "name": "python"
    }
  },
  "cells": [
    {
      "cell_type": "code",
      "execution_count": 21,
      "metadata": {
        "colab": {
          "base_uri": "https://localhost:8080/",
          "height": 17
        },
        "id": "mJFwTynSbguJ",
        "outputId": "4dcc75d7-0f73-47ec-8f5f-d201222c62f8"
      },
      "outputs": [
        {
          "output_type": "display_data",
          "data": {
            "text/plain": [
              "<IPython.core.display.Javascript object>"
            ],
            "application/javascript": [
              "\n",
              "    async function download(id, filename, size) {\n",
              "      if (!google.colab.kernel.accessAllowed) {\n",
              "        return;\n",
              "      }\n",
              "      const div = document.createElement('div');\n",
              "      const label = document.createElement('label');\n",
              "      label.textContent = `Downloading \"${filename}\": `;\n",
              "      div.appendChild(label);\n",
              "      const progress = document.createElement('progress');\n",
              "      progress.max = size;\n",
              "      div.appendChild(progress);\n",
              "      document.body.appendChild(div);\n",
              "\n",
              "      const buffers = [];\n",
              "      let downloaded = 0;\n",
              "\n",
              "      const channel = await google.colab.kernel.comms.open(id);\n",
              "      // Send a message to notify the kernel that we're ready.\n",
              "      channel.send({})\n",
              "\n",
              "      for await (const message of channel.messages) {\n",
              "        // Send a message to notify the kernel that we're ready.\n",
              "        channel.send({})\n",
              "        if (message.buffers) {\n",
              "          for (const buffer of message.buffers) {\n",
              "            buffers.push(buffer);\n",
              "            downloaded += buffer.byteLength;\n",
              "            progress.value = downloaded;\n",
              "          }\n",
              "        }\n",
              "      }\n",
              "      const blob = new Blob(buffers, {type: 'application/binary'});\n",
              "      const a = document.createElement('a');\n",
              "      a.href = window.URL.createObjectURL(blob);\n",
              "      a.download = filename;\n",
              "      div.appendChild(a);\n",
              "      a.click();\n",
              "      div.remove();\n",
              "    }\n",
              "  "
            ]
          },
          "metadata": {}
        },
        {
          "output_type": "display_data",
          "data": {
            "text/plain": [
              "<IPython.core.display.Javascript object>"
            ],
            "application/javascript": [
              "download(\"download_120848da-d0d0-4437-af6d-4a48f044cdd5\", \"grafico_pernoctaciones_valparaiso.html\", 3807)"
            ]
          },
          "metadata": {}
        }
      ],
      "source": [
        "import pandas as pd\n",
        "import altair as alt\n",
        "\n",
        "# Cargar archivo\n",
        "df = pd.read_excel('base_pernoctaciones_tasa.xlsx')\n",
        "\n",
        "import pandas as pd\n",
        "import altair as alt\n",
        "\n",
        "# Cargar archivo\n",
        "df = pd.read_excel('base_pernoctaciones_tasa.xlsx')\n",
        "\n",
        "# Filtrar fila \"TOTAL CHILE\"\n",
        "df_region = df[df[\"Nombre región\"].astype(str).str.strip().str.upper() == \"VALPARAÍSO\"]\n",
        "\n",
        "\n",
        "# Definir años explícitos\n",
        "años = [str(a) for a in range(2017, 2026)]\n",
        "\n",
        "# Definir columnas exactas\n",
        "cols_per = [f\"Per {a}\" for a in años]\n",
        "cols_tasa = [f\"Tasa {a}\" for a in años]\n",
        "\n",
        "# Extraer valores directamente (solo esos 9 años)\n",
        "valores_per = df_region[cols_per].iloc[0].astype(str).str.replace(\".\", \"\", regex=False)\n",
        "valores_tasa = df_region[cols_tasa].iloc[0].astype(str).str.replace(\",\", \".\", regex=False)\n",
        "\n",
        "# Convertir a numérico\n",
        "pernoctaciones = pd.to_numeric(valores_per.values[:9], errors='coerce') / 10  # 👈 quitar un cero\n",
        "tasa_ocupacion = pd.to_numeric(valores_tasa.values[:9], errors='coerce')\n",
        "\n",
        "# Crear DataFrame final\n",
        "data = pd.DataFrame({\n",
        "    \"Año\": años,\n",
        "    \"Pernoctaciones\": pernoctaciones,\n",
        "    \"Tasa_Ocupación\": tasa_ocupacion\n",
        "})\n",
        "data[\"Pernoctaciones_millones\"] = data[\"Pernoctaciones\"] / 1_000_000\n",
        "data = data[data[\"Año\"] != \"2025\"]\n",
        "# Crear el gráfico base\n",
        "base = alt.Chart(data).encode(\n",
        "    x=alt.X('Año:O', title='Año')\n",
        ",   tooltip=[\n",
        "        alt.Tooltip('Año:N'),\n",
        "        alt.Tooltip('Pernoctaciones_millones:Q', title='Pernoctaciones (millones)', format='.1f'),\n",
        "        alt.Tooltip('Tasa_Ocupación:Q', title='Tasa de ocupación (%)', format='.1f')\n",
        "    ])\n",
        "\n",
        "\n",
        "# Barras sin notación científica\n",
        "barras = base.mark_bar(color='steelblue').encode(\n",
        "    y=alt.Y('Pernoctaciones_millones:Q',\n",
        "            title='Pernoctaciones (millones)',\n",
        "            axis=alt.Axis(format='.1f', titleColor='steelblue'))  # <- sin notación científica\n",
        ")\n",
        "# Línea usando la tasa real\n",
        "linea = base.mark_line(color='crimson', strokeWidth=5).encode(\n",
        "    y=alt.Y('Tasa_Ocupación:Q',\n",
        "            title='Tasa de ocupación (%)',\n",
        "            axis=alt.Axis(format='.1f', titleColor='crimson'))\n",
        ")\n",
        "\n",
        "# Combinar ambos\n",
        "chart = alt.layer(barras, linea).resolve_scale(\n",
        "    y='independent'  # Permite que las barras y la línea tengan sus propias escalas\n",
        ").properties(\n",
        "    width=700,\n",
        "    height=400,\n",
        "    title='Pernoctaciones y Tasa de Ocupación Habitaciones Región de Valparaíso (2017–2024)'\n",
        ")\n",
        "chart\n",
        "chart.save('grafico_pernoctaciones_valparaiso.html')\n",
        "from google.colab import files\n",
        "files.download('grafico_pernoctaciones_valparaiso.html')"
      ]
    }
  ]
}