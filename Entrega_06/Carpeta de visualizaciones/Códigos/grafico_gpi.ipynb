{
  "nbformat": 4,
  "nbformat_minor": 0,
  "metadata": {
    "colab": {
      "provenance": []
    },
    "kernelspec": {
      "name": "python3",
      "display_name": "Python 3"
    },
    "language_info": {
      "name": "python"
    }
  },
  "cells": [
    {
      "cell_type": "code",
      "execution_count": null,
      "metadata": {
        "colab": {
          "base_uri": "https://localhost:8080/",
          "height": 17
        },
        "id": "Srbwt95o_7xj",
        "outputId": "d674ff9e-a643-4ab5-fefb-de7e6816da41"
      },
      "outputs": [
        {
          "output_type": "display_data",
          "data": {
            "text/plain": [
              "<IPython.core.display.Javascript object>"
            ],
            "application/javascript": [
              "\n",
              "    async function download(id, filename, size) {\n",
              "      if (!google.colab.kernel.accessAllowed) {\n",
              "        return;\n",
              "      }\n",
              "      const div = document.createElement('div');\n",
              "      const label = document.createElement('label');\n",
              "      label.textContent = `Downloading \"${filename}\": `;\n",
              "      div.appendChild(label);\n",
              "      const progress = document.createElement('progress');\n",
              "      progress.max = size;\n",
              "      div.appendChild(progress);\n",
              "      document.body.appendChild(div);\n",
              "\n",
              "      const buffers = [];\n",
              "      let downloaded = 0;\n",
              "\n",
              "      const channel = await google.colab.kernel.comms.open(id);\n",
              "      // Send a message to notify the kernel that we're ready.\n",
              "      channel.send({})\n",
              "\n",
              "      for await (const message of channel.messages) {\n",
              "        // Send a message to notify the kernel that we're ready.\n",
              "        channel.send({})\n",
              "        if (message.buffers) {\n",
              "          for (const buffer of message.buffers) {\n",
              "            buffers.push(buffer);\n",
              "            downloaded += buffer.byteLength;\n",
              "            progress.value = downloaded;\n",
              "          }\n",
              "        }\n",
              "      }\n",
              "      const blob = new Blob(buffers, {type: 'application/binary'});\n",
              "      const a = document.createElement('a');\n",
              "      a.href = window.URL.createObjectURL(blob);\n",
              "      a.download = filename;\n",
              "      div.appendChild(a);\n",
              "      a.click();\n",
              "      div.remove();\n",
              "    }\n",
              "  "
            ]
          },
          "metadata": {}
        },
        {
          "output_type": "display_data",
          "data": {
            "text/plain": [
              "<IPython.core.display.Javascript object>"
            ],
            "application/javascript": [
              "download(\"download_89c5a2df-a0a7-4f8a-8e61-81c5b4c07ac8\", \"grafico_gpi.html\", 3827)"
            ]
          },
          "metadata": {}
        }
      ],
      "source": [
        "import pandas as pd\n",
        "import altair as alt\n",
        "df = pd.read_excel(\"Indice_paz_global_chile_posiciones.xlsx\")\n",
        "df.head()\n",
        "data = {\n",
        "    \"Año\": list(range(2009, 2025)),\n",
        "    \"Clasificación GPI\": [20, 28, 38, 30, 31, 30, 29, 27, 24, 28, 27, 45, 49, 55, 58, 64]\n",
        "}\n",
        "df = pd.DataFrame(data)\n",
        "df = df.rename(columns={\"Clasificación GPI\": \"Posición\"})\n",
        "\n",
        "\n",
        "nearest = alt.selection_point(\n",
        "    nearest=True,\n",
        "    on=\"pointerover\",\n",
        "    fields=[\"Año\"],\n",
        "    empty=False\n",
        ")\n",
        "\n",
        "\n",
        "line = alt.Chart(df).mark_line(color=\"red\", strokeWidth=3).encode(\n",
        "    x=alt.X(\"Año:O\", title=\"Año\"),\n",
        "    y=alt.Y(\"Posición:Q\",\n",
        "            title=\"Posición en el índice\",\n",
        "            scale=alt.Scale(domain=[70, 1])  # <- AQUÍ está el cambio\n",
        "           ),\n",
        "    color=alt.value(\"red\")\n",
        ")\n",
        "\n",
        "\n",
        "selectors = alt.Chart(df).mark_point().encode(\n",
        "    x=\"Año:O\",\n",
        "    opacity=alt.value(0),\n",
        ").add_params(nearest)\n",
        "\n",
        "\n",
        "points = line.mark_point().encode(\n",
        "    opacity=alt.condition(nearest, alt.value(1), alt.value(0))\n",
        ")\n",
        "\n",
        "\n",
        "text = line.mark_text(align=\"left\", dx=5, dy=-5).encode(\n",
        "    text=alt.condition(nearest, \"Posición:Q\", alt.value(\" \"))\n",
        ")\n",
        "\n",
        "\n",
        "rules = alt.Chart(df).mark_rule(color=\"gray\").encode(\n",
        "    x=\"Año:O\",\n",
        ").transform_filter(nearest)\n",
        "\n",
        "\n",
        "chart = alt.layer(line, selectors, points, rules, text).properties(\n",
        "    width=600,\n",
        "    height=300,\n",
        "    title=\"Posición de Chile en el Global Peace Index (2009–2024)\"\n",
        ")\n",
        "\n",
        "chart\n",
        "chart.save('grafico_gpi.html')\n",
        "\n",
        "from google.colab import files\n",
        "files.download('grafico_gpi.html')"
      ]
    }
  ]
}